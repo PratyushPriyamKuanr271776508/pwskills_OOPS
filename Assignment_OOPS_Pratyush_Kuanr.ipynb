{
  "nbformat": 4,
  "nbformat_minor": 0,
  "metadata": {
    "colab": {
      "provenance": [],
      "authorship_tag": "ABX9TyMsBHaa9NmCt+i+kUN5yZ9v",
      "include_colab_link": true
    },
    "kernelspec": {
      "name": "python3",
      "display_name": "Python 3"
    },
    "language_info": {
      "name": "python"
    }
  },
  "cells": [
    {
      "cell_type": "markdown",
      "metadata": {
        "id": "view-in-github",
        "colab_type": "text"
      },
      "source": [
        "<a href=\"https://colab.research.google.com/github/PratyushPriyamKuanr271776508/pwskills_OOPS/blob/main/Assignment_OOPS_Pratyush_Kuanr.ipynb\" target=\"_parent\"><img src=\"https://colab.research.google.com/assets/colab-badge.svg\" alt=\"Open In Colab\"/></a>"
      ]
    },
    {
      "cell_type": "markdown",
      "source": [
        "### 1. What are the five key concepts of Object-oriented Programming (OOP)?\n",
        "\n",
        "The five key OOP concepts are:\n",
        "- **Encapsulation**: Bundling data (attributes) and methods (functions) together and restricting direct access to some of the object's components.\n",
        "- **Abstraction**: Hiding internal details and only showing functionality to the user.\n",
        "- **Inheritance**: Mechanism by which one class (child/subclass) can inherit attributes and methods from another class (parent/superclass).\n",
        "- **Polymorphism**: The ability of different objects to respond in a unique way to the same method call.\n",
        "- **Modularity**: Writing clean and organized code by separating the system into independent parts (often classes)."
      ],
      "metadata": {
        "id": "r-vuLiIzFzdX"
      }
    },
    {
      "cell_type": "markdown",
      "source": [
        "### 2. Write a Python class for a car with attributes for `make`, `model`, and `year`. Include a method to display the car's information.\n"
      ],
      "metadata": {
        "id": "2ojTqn1NGOsJ"
      }
    },
    {
      "cell_type": "code",
      "source": [
        "class Car:\n",
        "    def __init__(self, make, model, year):\n",
        "        self.make = make\n",
        "        self.model = model\n",
        "        self.year = year\n",
        "\n",
        "    def display_info(self):\n",
        "        print(f\"Car: {self.year} {self.make} {self.model}\")\n",
        "\n",
        "# Example usage:\n",
        "my_car = Car(\"Toyota\", \"Corolla\", 2021)\n",
        "my_car.display_info()  # Output: Car: 2021 Toyota Corolla"
      ],
      "metadata": {
        "colab": {
          "base_uri": "https://localhost:8080/"
        },
        "id": "R0ZDmiHgF9EX",
        "outputId": "af099f52-2cb1-43c1-f78d-d9c6822c7bb8"
      },
      "execution_count": 1,
      "outputs": [
        {
          "output_type": "stream",
          "name": "stdout",
          "text": [
            "Car: 2021 Toyota Corolla\n"
          ]
        }
      ]
    },
    {
      "cell_type": "markdown",
      "source": [
        "### 3. Explain the difference between instance methods and class methods. Provide an example of each.\n",
        "\n",
        "- **Instance methods**: Operate on an instance of the class and have access to instance attributes. They require `self` as the first parameter.\n",
        "- **Class methods**: Operate on the class itself rather than instances and are marked with `@classmethod`. They take `cls` as the first parameter.\n",
        "\n",
        "Example of instance and class methods:\n"
      ],
      "metadata": {
        "id": "dliF118DGvWN"
      }
    },
    {
      "cell_type": "code",
      "execution_count": 3,
      "metadata": {
        "colab": {
          "base_uri": "https://localhost:8080/"
        },
        "id": "ETR33LhOFcJv",
        "outputId": "6ef1bc58-6dfb-437a-9d5e-7ba6ab8f5332"
      },
      "outputs": [
        {
          "output_type": "stream",
          "name": "stdout",
          "text": [
            "This is an instance method.\n",
            "This is an instance method.\n",
            "Class method called. Total instances: 2\n"
          ]
        }
      ],
      "source": [
        "class Example:\n",
        "    instance_count = 0\n",
        "\n",
        "    def __init__(self):\n",
        "        Example.instance_count += 1\n",
        "\n",
        "    def instance_method(self):\n",
        "        print(\"This is an instance method.\")\n",
        "\n",
        "    @classmethod\n",
        "    def class_method(cls):\n",
        "        print(f\"Class method called. Total instances: {cls.instance_count}\")\n",
        "\n",
        "# Usage\n",
        "ex1 = Example()\n",
        "ex2 = Example()\n",
        "ex1.instance_method()  # Output: This is an instance method.\n",
        "ex2.instance_method()  # Output: This is an instance method.\n",
        "Example.class_method()  # Output: Class method called. Total instances: 2"
      ]
    },
    {
      "cell_type": "markdown",
      "source": [
        "### 4. How does Python implement method overloading? Give an example.\n",
        "\n",
        "Python does not natively support method overloading like other languages. Instead, it uses *default arguments* or `*args`/`**kwargs` to achieve similar functionality.\n",
        "\n",
        "Example:"
      ],
      "metadata": {
        "id": "fBD0rXNRHJwf"
      }
    },
    {
      "cell_type": "code",
      "source": [
        "class MathOperations:\n",
        "    def add(self, a, b):\n",
        "        return a + b\n",
        "\n",
        "    def add(self, a, b, c=0):\n",
        "        return a + b + c\n",
        "\n",
        "# Usage\n",
        "math_op = MathOperations()\n",
        "print(math_op.add(1, 2))       # Output: 3\n",
        "print(math_op.add(1, 2, 3))    # Output: 6"
      ],
      "metadata": {
        "colab": {
          "base_uri": "https://localhost:8080/"
        },
        "id": "autlLH18G0G-",
        "outputId": "4d8fdd5e-9b2c-47ef-a5f3-07f72fcd9a63"
      },
      "execution_count": 5,
      "outputs": [
        {
          "output_type": "stream",
          "name": "stdout",
          "text": [
            "3\n",
            "6\n"
          ]
        }
      ]
    },
    {
      "cell_type": "markdown",
      "source": [
        "### 5. What are the three types of access modifiers in Python? How are they denoted?\n",
        "\n",
        "- **Public**: Accessible from inside and outside of the class. Denoted by a normal variable name (e.g., `self.variable`).\n",
        "- **Protected**: Should not be accessed outside the class (though technically possible). Denoted by a single underscore (e.g., `_variable`).\n",
        "- **Private**: Not accessible from outside the class. Denoted by a double underscore (e.g., `__variable`)."
      ],
      "metadata": {
        "id": "R8HuaonRHcGA"
      }
    },
    {
      "cell_type": "markdown",
      "source": [
        "\n",
        "### 6. Describe the five types of inheritance in Python. Provide a simple example of multiple inheritance.\n",
        "\n",
        "- **Single inheritance**: A subclass inherits from one superclass.\n",
        "- **Multiple inheritance**: A subclass inherits from more than one superclass.\n",
        "- **Multilevel inheritance**: A subclass is derived from another derived class.\n",
        "- **Hierarchical inheritance**: Multiple subclasses inherit from a single superclass.\n",
        "- **Hybrid inheritance**: Combination of two or more types of inheritance.\n",
        "\n",
        "**Example of Multiple Inheritance**:\n"
      ],
      "metadata": {
        "id": "8B3GicvhHhBj"
      }
    },
    {
      "cell_type": "code",
      "source": [
        "class Parent1:\n",
        "    def speak(self):\n",
        "        print(\"Parent1 is speaking.\")\n",
        "\n",
        "class Parent2:\n",
        "    def write(self):\n",
        "        print(\"Parent2 is writing.\")\n",
        "\n",
        "class Child(Parent1, Parent2):\n",
        "    pass\n",
        "\n",
        "# Usage\n",
        "c = Child()\n",
        "c.speak()  # Output: Parent1 is speaking.\n",
        "c.write()  # Output: Parent2 is writing."
      ],
      "metadata": {
        "colab": {
          "base_uri": "https://localhost:8080/"
        },
        "id": "Y_hvoIb9HNQ3",
        "outputId": "23054383-c5c0-4e13-dc46-1963f9f5856f"
      },
      "execution_count": 6,
      "outputs": [
        {
          "output_type": "stream",
          "name": "stdout",
          "text": [
            "Parent1 is speaking.\n",
            "Parent2 is writing.\n"
          ]
        }
      ]
    },
    {
      "cell_type": "markdown",
      "source": [
        "### 7. What is the Method Resolution Order (MRO) in Python? How can you retrieve it programmatically?\n",
        "\n",
        "**MRO** defines the order in which Python looks for methods in classes. It is especially important in multiple inheritance. You can retrieve it using the `__mro__` attribute or `mro()` method."
      ],
      "metadata": {
        "id": "pfXPW_tcHrWv"
      }
    },
    {
      "cell_type": "code",
      "source": [
        "class A: pass\n",
        "class B(A): pass\n",
        "class C(A): pass\n",
        "class D(B, C): pass\n",
        "\n",
        "print(D.mro())"
      ],
      "metadata": {
        "colab": {
          "base_uri": "https://localhost:8080/"
        },
        "id": "582TTHucHl2F",
        "outputId": "5c60d8c5-252f-4cbf-9578-248a75da5997"
      },
      "execution_count": 7,
      "outputs": [
        {
          "output_type": "stream",
          "name": "stdout",
          "text": [
            "[<class '__main__.D'>, <class '__main__.B'>, <class '__main__.C'>, <class '__main__.A'>, <class 'object'>]\n"
          ]
        }
      ]
    },
    {
      "cell_type": "markdown",
      "source": [
        "\n",
        "### 8. Create an abstract base class `Shape` with an abstract method `area()`. Then create two subclasses `Circle` and `Rectangle` that implement the `area()` method."
      ],
      "metadata": {
        "id": "3mWFh9akH7Zo"
      }
    },
    {
      "cell_type": "code",
      "source": [
        "from abc import ABC, abstractmethod\n",
        "\n",
        "class Shape(ABC):\n",
        "    @abstractmethod\n",
        "    def area(self):\n",
        "        pass\n",
        "\n",
        "class Circle(Shape):\n",
        "    def __init__(self, radius):\n",
        "        self.radius = radius\n",
        "\n",
        "    def area(self):\n",
        "        return 3.14 * self.radius ** 2\n",
        "\n",
        "class Rectangle(Shape):\n",
        "    def __init__(self, length, width):\n",
        "        self.length = length\n",
        "        self.width = width\n",
        "\n",
        "    def area(self):\n",
        "        return self.length * self.width"
      ],
      "metadata": {
        "id": "MfqjDQ0EHui1"
      },
      "execution_count": 8,
      "outputs": []
    },
    {
      "cell_type": "markdown",
      "source": [
        "\n",
        "### 9. Demonstrate polymorphism by creating a function that can work with different shape objects to calculate and print their areas."
      ],
      "metadata": {
        "id": "Ja2GklyQILF5"
      }
    },
    {
      "cell_type": "code",
      "source": [
        "def print_area(shape):\n",
        "    print(f\"The area is: {shape.area()}\")\n",
        "\n",
        "circle = Circle(5)\n",
        "rectangle = Rectangle(4, 6)\n",
        "\n",
        "print_area(circle)      # Output: The area is: 78.5\n",
        "print_area(rectangle)   # Output: The area is: 24"
      ],
      "metadata": {
        "colab": {
          "base_uri": "https://localhost:8080/"
        },
        "id": "gvfdK40_H_Hx",
        "outputId": "e95cab2c-3de8-49bd-cb5b-0ed6832efb18"
      },
      "execution_count": 9,
      "outputs": [
        {
          "output_type": "stream",
          "name": "stdout",
          "text": [
            "The area is: 78.5\n",
            "The area is: 24\n"
          ]
        }
      ]
    },
    {
      "cell_type": "markdown",
      "source": [
        "\n",
        "### 10. Implement encapsulation in a `BankAccount` class with private attributes for `balance` and `account_number`. Include methods for deposit, withdrawal, and balance inquiry.\n",
        "\n"
      ],
      "metadata": {
        "id": "5czkwCebIb2R"
      }
    },
    {
      "cell_type": "code",
      "source": [
        "class BankAccount:\n",
        "    def __init__(self, account_number, balance=0):\n",
        "        self.__account_number = account_number\n",
        "        self.__balance = balance\n",
        "\n",
        "    def deposit(self, amount):\n",
        "        self.__balance += amount\n",
        "\n",
        "    def withdraw(self, amount):\n",
        "        if amount <= self.__balance:\n",
        "            self.__balance -= amount\n",
        "        else:\n",
        "            print(\"Insufficient funds\")\n",
        "\n",
        "    def get_balance(self):\n",
        "        return self.__balance\n",
        "\n",
        "# Usage:\n",
        "account = BankAccount(\"12345678\", 500)\n",
        "account.deposit(200)\n",
        "account.withdraw(100)\n",
        "print(account.get_balance())  # Output: 600"
      ],
      "metadata": {
        "colab": {
          "base_uri": "https://localhost:8080/"
        },
        "id": "y3QZppGyIQa3",
        "outputId": "2c00a191-53de-4ecc-bdc2-eae9fa10a7ca"
      },
      "execution_count": 10,
      "outputs": [
        {
          "output_type": "stream",
          "name": "stdout",
          "text": [
            "600\n"
          ]
        }
      ]
    },
    {
      "cell_type": "markdown",
      "source": [
        "### 11. Write a class that overrides the `__str__` and `__add__` magic methods. What will these methods allow you to do?\n",
        "\n",
        "- `__str__`: Allows custom string representation when the object is printed.\n",
        "- `__add__`: Allows use of the `+` operator to add two objects."
      ],
      "metadata": {
        "id": "RrAF-EKVIq5_"
      }
    },
    {
      "cell_type": "code",
      "source": [
        "class MyNumber:\n",
        "    def __init__(self, value):\n",
        "        self.value = value\n",
        "\n",
        "    def __str__(self):\n",
        "        return f\"MyNumber: {self.value}\"\n",
        "\n",
        "    def __add__(self, other):\n",
        "        return MyNumber(self.value + other.value)\n",
        "\n",
        "# Usage:\n",
        "num1 = MyNumber(10)\n",
        "num2 = MyNumber(20)\n",
        "print(num1)  # Output: MyNumber: 10\n",
        "result = num1 + num2\n",
        "print(result)  # Output: MyNumber: 30"
      ],
      "metadata": {
        "colab": {
          "base_uri": "https://localhost:8080/"
        },
        "id": "gkNwsvh3IgID",
        "outputId": "45f65ac3-7a90-46b9-d6be-ef4196e8d524"
      },
      "execution_count": 11,
      "outputs": [
        {
          "output_type": "stream",
          "name": "stdout",
          "text": [
            "MyNumber: 10\n",
            "MyNumber: 30\n"
          ]
        }
      ]
    },
    {
      "cell_type": "markdown",
      "source": [
        "### 12. Create a decorator that measures and prints the execution time of a function."
      ],
      "metadata": {
        "id": "1rXNowYpI0Xt"
      }
    },
    {
      "cell_type": "code",
      "source": [
        "import time\n",
        "\n",
        "def timer(func):\n",
        "    def wrapper(*args, **kwargs):\n",
        "        start = time.time()\n",
        "        result = func(*args, **kwargs)\n",
        "        end = time.time()\n",
        "        print(f\"Execution time: {end - start} seconds\")\n",
        "        return result\n",
        "    return wrapper\n",
        "\n",
        "@timer\n",
        "def sample_function(n):\n",
        "    return sum(range(n))\n",
        "\n",
        "# Usage:\n",
        "sample_function(1000000)  # Prints execution time"
      ],
      "metadata": {
        "colab": {
          "base_uri": "https://localhost:8080/"
        },
        "id": "JNgHS_QcIttu",
        "outputId": "fbfa71c1-ea7c-47de-823b-14701622d3ed"
      },
      "execution_count": 12,
      "outputs": [
        {
          "output_type": "stream",
          "name": "stdout",
          "text": [
            "Execution time: 0.016852378845214844 seconds\n"
          ]
        },
        {
          "output_type": "execute_result",
          "data": {
            "text/plain": [
              "499999500000"
            ]
          },
          "metadata": {},
          "execution_count": 12
        }
      ]
    },
    {
      "cell_type": "markdown",
      "source": [
        "### 13. Explain the concept of the Diamond problem in multiple inheritance. How does Python resolve it?\n",
        "\n",
        "The **Diamond problem** occurs when a class inherits from two classes that both inherit from a common base class, creating an ambiguous hierarchy. Python resolves it using **Method Resolution Order (MRO)**, ensuring that each class in the hierarchy is only called once."
      ],
      "metadata": {
        "id": "W-hwiZ4oJBTQ"
      }
    },
    {
      "cell_type": "markdown",
      "source": [
        "\n",
        "### 14. Write a class method that keeps track of the number of instances created from a class."
      ],
      "metadata": {
        "id": "AIti700bJHEl"
      }
    },
    {
      "cell_type": "code",
      "source": [
        "class InstanceCounter:\n",
        "    count = 0\n",
        "\n",
        "    def __init__(self):\n",
        "        InstanceCounter.count += 1\n",
        "\n",
        "    @classmethod\n",
        "    def get_instance_count(cls):\n",
        "        return cls.count\n",
        "\n",
        "# Usage:\n",
        "i1 = InstanceCounter()\n",
        "i2 = InstanceCounter()\n",
        "print(InstanceCounter.get_instance_count())  # Output: 2"
      ],
      "metadata": {
        "colab": {
          "base_uri": "https://localhost:8080/"
        },
        "id": "wGJ-VCmwI6vv",
        "outputId": "48d010c2-6a23-4d2b-f68b-9b84d87ac258"
      },
      "execution_count": 13,
      "outputs": [
        {
          "output_type": "stream",
          "name": "stdout",
          "text": [
            "2\n"
          ]
        }
      ]
    },
    {
      "cell_type": "markdown",
      "source": [
        "\n",
        "### 15. Implement a static method in a class that checks if a given year is a leap year."
      ],
      "metadata": {
        "id": "hQpv55laJbcm"
      }
    },
    {
      "cell_type": "code",
      "source": [
        "class DateUtils:\n",
        "    @staticmethod\n",
        "    def is_leap_year(year):\n",
        "        return year % 4 == 0 and (year % 100 != 0 or year % 400 == 0)\n",
        "\n",
        "# Usage:\n",
        "print(DateUtils.is_leap_year(2024))  # Output: True"
      ],
      "metadata": {
        "colab": {
          "base_uri": "https://localhost:8080/"
        },
        "id": "Rfxpsm94JKaI",
        "outputId": "a6c61526-74f7-48ed-97f1-8657c16d33c9"
      },
      "execution_count": 14,
      "outputs": [
        {
          "output_type": "stream",
          "name": "stdout",
          "text": [
            "True\n"
          ]
        }
      ]
    },
    {
      "cell_type": "code",
      "source": [],
      "metadata": {
        "id": "vScZtGkzJeEh"
      },
      "execution_count": null,
      "outputs": []
    }
  ]
}